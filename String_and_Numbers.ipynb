{
  "nbformat": 4,
  "nbformat_minor": 0,
  "metadata": {
    "colab": {
      "name": "String and Numbers.ipynb",
      "provenance": [],
      "authorship_tag": "ABX9TyM78BJkvrQWctHlgC+1O6FU",
      "include_colab_link": true
    },
    "kernelspec": {
      "name": "python3",
      "display_name": "Python 3"
    },
    "language_info": {
      "name": "python"
    }
  },
  "cells": [
    {
      "cell_type": "markdown",
      "metadata": {
        "id": "view-in-github",
        "colab_type": "text"
      },
      "source": [
        "<a href=\"https://colab.research.google.com/github/sami10644/Bangla-NER-dataset-Customization/blob/main/String_and_Numbers.ipynb\" target=\"_parent\"><img src=\"https://colab.research.google.com/assets/colab-badge.svg\" alt=\"Open In Colab\"/></a>"
      ]
    },
    {
      "cell_type": "code",
      "metadata": {
        "colab": {
          "base_uri": "https://localhost:8080/"
        },
        "id": "pq1jN9DaLtdm",
        "outputId": "0f31d5df-3c6e-446f-9d58-c6451de0c50f"
      },
      "source": [
        "print(\"Hello World\")"
      ],
      "execution_count": 1,
      "outputs": [
        {
          "output_type": "stream",
          "name": "stdout",
          "text": [
            "Hello World\n"
          ]
        }
      ]
    },
    {
      "cell_type": "code",
      "metadata": {
        "colab": {
          "base_uri": "https://localhost:8080/"
        },
        "id": "QHWcy-ixNUxe",
        "outputId": "07f1fa22-83e4-42c1-e8f5-db0ec7572861"
      },
      "source": [
        "print(1+2)"
      ],
      "execution_count": 2,
      "outputs": [
        {
          "output_type": "stream",
          "name": "stdout",
          "text": [
            "3\n"
          ]
        }
      ]
    },
    {
      "cell_type": "code",
      "metadata": {
        "colab": {
          "base_uri": "https://localhost:8080/"
        },
        "id": "keDnoKZ9NkqV",
        "outputId": "3284afb6-4604-40be-f63c-0dd2cc01b46e"
      },
      "source": [
        "print(5*4)"
      ],
      "execution_count": 3,
      "outputs": [
        {
          "output_type": "stream",
          "name": "stdout",
          "text": [
            "20\n"
          ]
        }
      ]
    },
    {
      "cell_type": "markdown",
      "metadata": {
        "id": "vBhiB_uwNsS0"
      },
      "source": [
        "press ctrl + Enter to run a cell , ctrl + alT FOR running the cell and creating another cell "
      ]
    },
    {
      "cell_type": "markdown",
      "metadata": {
        "id": "4YZsN4GQNy6x"
      },
      "source": [
        "ctrl + M M for converting code cell to text cell"
      ]
    },
    {
      "cell_type": "code",
      "metadata": {
        "colab": {
          "base_uri": "https://localhost:8080/"
        },
        "id": "qFYxwIS-NzBA",
        "outputId": "1662f0aa-ca34-4c66-822b-f8d4a5ffc7cf"
      },
      "source": [
        "print(\"Hello\"      +     \"world\")"
      ],
      "execution_count": 5,
      "outputs": [
        {
          "output_type": "stream",
          "name": "stdout",
          "text": [
            "Helloworld\n"
          ]
        }
      ]
    },
    {
      "cell_type": "code",
      "metadata": {
        "colab": {
          "base_uri": "https://localhost:8080/"
        },
        "id": "quNz339AOYzP",
        "outputId": "ebcb50b4-a27d-4ca2-bf4a-3724ded0d545"
      },
      "source": [
        "print(\"Hello\"   + \" \"   +     \"world\")"
      ],
      "execution_count": 7,
      "outputs": [
        {
          "output_type": "stream",
          "name": "stdout",
          "text": [
            "Hello world\n"
          ]
        }
      ]
    },
    {
      "cell_type": "code",
      "metadata": {
        "colab": {
          "base_uri": "https://localhost:8080/"
        },
        "id": "L1lyXO-tOhYc",
        "outputId": "7891a68f-3113-4e2d-a427-3e462eff8731"
      },
      "source": [
        "print(\"ddd5745&&&& %%%%\")"
      ],
      "execution_count": 8,
      "outputs": [
        {
          "output_type": "stream",
          "name": "stdout",
          "text": [
            "ddd5745&&&& %%%%\n"
          ]
        }
      ]
    },
    {
      "cell_type": "code",
      "metadata": {
        "colab": {
          "base_uri": "https://localhost:8080/"
        },
        "id": "8ia-TdAYOs7U",
        "outputId": "768925ef-cfdd-406c-9ed8-85e0484abe5d"
      },
      "source": [
        "print(\"dddddddddd \\nddddddddddddd \\ndddddddd\")"
      ],
      "execution_count": 9,
      "outputs": [
        {
          "output_type": "stream",
          "name": "stdout",
          "text": [
            "dddddddddd \n",
            "ddddddddddddd \n",
            "dddddddd\n"
          ]
        }
      ]
    },
    {
      "cell_type": "code",
      "metadata": {
        "colab": {
          "base_uri": "https://localhost:8080/"
        },
        "id": "FTcoYY2GO9Ms",
        "outputId": "703ca511-6702-4784-93ad-7e1f4d8060da"
      },
      "source": [
        "print(\"\"\"This string has \n",
        "been\n",
        "splited\n",
        "over\n",
        "several\n",
        "lines\"\"\")"
      ],
      "execution_count": 12,
      "outputs": [
        {
          "output_type": "stream",
          "name": "stdout",
          "text": [
            "This string has \n",
            "been\n",
            "splited\n",
            "over\n",
            "several\n",
            "lines\n"
          ]
        }
      ]
    },
    {
      "cell_type": "code",
      "metadata": {
        "id": "456V-bWyPbl-"
      },
      "source": [
        ""
      ],
      "execution_count": null,
      "outputs": []
    },
    {
      "cell_type": "markdown",
      "metadata": {
        "id": "0i_lcBmePUmt"
      },
      "source": [
        "Var&types"
      ]
    },
    {
      "cell_type": "code",
      "metadata": {
        "colab": {
          "base_uri": "https://localhost:8080/"
        },
        "id": "_KfotXxVPMq2",
        "outputId": "b73824c1-e0d8-4c45-8a9e-95042df36a12"
      },
      "source": [
        "age = 4 \n",
        "print(type(age))"
      ],
      "execution_count": 13,
      "outputs": [
        {
          "output_type": "stream",
          "name": "stdout",
          "text": [
            "<class 'int'>\n"
          ]
        }
      ]
    },
    {
      "cell_type": "code",
      "metadata": {
        "colab": {
          "base_uri": "https://localhost:8080/"
        },
        "id": "dkpdKpYnPkdM",
        "outputId": "0598d8f5-e4d8-4496-b43b-c0c4fb8b9319"
      },
      "source": [
        "name = \"Sami\"\n",
        "age = \"2 years\"\n",
        "print(name+\" \" + \"is\" + age+ \"years old\" )"
      ],
      "execution_count": 15,
      "outputs": [
        {
          "output_type": "stream",
          "name": "stdout",
          "text": [
            "Samiis2 yearsyears old\n"
          ]
        }
      ]
    },
    {
      "cell_type": "code",
      "metadata": {
        "colab": {
          "base_uri": "https://localhost:8080/"
        },
        "id": "UgkmsuCxP4b9",
        "outputId": "658576e6-5280-4329-dec8-5d63938085fd"
      },
      "source": [
        "10/4"
      ],
      "execution_count": 21,
      "outputs": [
        {
          "output_type": "execute_result",
          "data": {
            "text/plain": [
              "2.5"
            ]
          },
          "metadata": {},
          "execution_count": 21
        }
      ]
    },
    {
      "cell_type": "markdown",
      "metadata": {
        "id": "ekCnmkDUQSlU"
      },
      "source": [
        "Floor Value"
      ]
    },
    {
      "cell_type": "code",
      "metadata": {
        "colab": {
          "base_uri": "https://localhost:8080/"
        },
        "id": "T7jY5ryUQFW0",
        "outputId": "591e995e-6ab8-4d43-ac45-7f72b78b5569"
      },
      "source": [
        "10//4"
      ],
      "execution_count": 20,
      "outputs": [
        {
          "output_type": "execute_result",
          "data": {
            "text/plain": [
              "2"
            ]
          },
          "metadata": {},
          "execution_count": 20
        }
      ]
    },
    {
      "cell_type": "code",
      "metadata": {
        "colab": {
          "base_uri": "https://localhost:8080/"
        },
        "id": "5guyXay1Pxuk",
        "outputId": "6cad4af9-42fd-49e5-dc1e-639e5ddadf29"
      },
      "source": [
        "10%3"
      ],
      "execution_count": 19,
      "outputs": [
        {
          "output_type": "execute_result",
          "data": {
            "text/plain": [
              "1"
            ]
          },
          "metadata": {},
          "execution_count": 19
        }
      ]
    },
    {
      "cell_type": "markdown",
      "metadata": {
        "id": "mrEl3dhFO3Nl"
      },
      "source": [
        "Indexing"
      ]
    },
    {
      "cell_type": "markdown",
      "metadata": {
        "id": "E1p4EOKrV9cE"
      },
      "source": [
        "the inital index including , the final index is always excluding"
      ]
    },
    {
      "cell_type": "code",
      "metadata": {
        "id": "pZ0odnFOQkpY"
      },
      "source": [
        " s = \"123456789\""
      ],
      "execution_count": 24,
      "outputs": []
    },
    {
      "cell_type": "code",
      "metadata": {
        "colab": {
          "base_uri": "https://localhost:8080/",
          "height": 35
        },
        "id": "fu6IWTbaQksi",
        "outputId": "005da638-7eea-4e70-dfbd-d83438b027b0"
      },
      "source": [
        "s[0]"
      ],
      "execution_count": 25,
      "outputs": [
        {
          "output_type": "execute_result",
          "data": {
            "application/vnd.google.colaboratory.intrinsic+json": {
              "type": "string"
            },
            "text/plain": [
              "'1'"
            ]
          },
          "metadata": {},
          "execution_count": 25
        }
      ]
    },
    {
      "cell_type": "code",
      "metadata": {
        "colab": {
          "base_uri": "https://localhost:8080/",
          "height": 35
        },
        "id": "MP-FitknRn5s",
        "outputId": "b7914234-bea9-4dcd-c96b-a18924225a51"
      },
      "source": [
        "s[2]"
      ],
      "execution_count": 26,
      "outputs": [
        {
          "output_type": "execute_result",
          "data": {
            "application/vnd.google.colaboratory.intrinsic+json": {
              "type": "string"
            },
            "text/plain": [
              "'3'"
            ]
          },
          "metadata": {},
          "execution_count": 26
        }
      ]
    },
    {
      "cell_type": "code",
      "metadata": {
        "colab": {
          "base_uri": "https://localhost:8080/",
          "height": 35
        },
        "id": "f6ChQ-FYRqEE",
        "outputId": "4b244251-3ac8-46e4-bee1-11320f3e3439"
      },
      "source": [
        "s[-1]"
      ],
      "execution_count": 27,
      "outputs": [
        {
          "output_type": "execute_result",
          "data": {
            "application/vnd.google.colaboratory.intrinsic+json": {
              "type": "string"
            },
            "text/plain": [
              "'9'"
            ]
          },
          "metadata": {},
          "execution_count": 27
        }
      ]
    },
    {
      "cell_type": "code",
      "metadata": {
        "colab": {
          "base_uri": "https://localhost:8080/",
          "height": 35
        },
        "id": "M7nxRM78R238",
        "outputId": "eba493e3-9b89-455f-dedb-8c245288a51a"
      },
      "source": [
        "s[-2]"
      ],
      "execution_count": 28,
      "outputs": [
        {
          "output_type": "execute_result",
          "data": {
            "application/vnd.google.colaboratory.intrinsic+json": {
              "type": "string"
            },
            "text/plain": [
              "'8'"
            ]
          },
          "metadata": {},
          "execution_count": 28
        }
      ]
    },
    {
      "cell_type": "code",
      "metadata": {
        "colab": {
          "base_uri": "https://localhost:8080/",
          "height": 35
        },
        "id": "Kt_GPdneR4fk",
        "outputId": "b55d9627-7529-4ec3-ec19-8e79f4c25e2a"
      },
      "source": [
        "s[-3]"
      ],
      "execution_count": 29,
      "outputs": [
        {
          "output_type": "execute_result",
          "data": {
            "application/vnd.google.colaboratory.intrinsic+json": {
              "type": "string"
            },
            "text/plain": [
              "'7'"
            ]
          },
          "metadata": {},
          "execution_count": 29
        }
      ]
    },
    {
      "cell_type": "code",
      "metadata": {
        "colab": {
          "base_uri": "https://localhost:8080/"
        },
        "id": "erNSKpD4R5o9",
        "outputId": "7f1c7e57-096d-445e-8433-b62684ffbd6e"
      },
      "source": [
        "print(len(s))"
      ],
      "execution_count": 30,
      "outputs": [
        {
          "output_type": "stream",
          "name": "stdout",
          "text": [
            "9\n"
          ]
        }
      ]
    },
    {
      "cell_type": "markdown",
      "metadata": {
        "id": "onWWjUjwR9xE"
      },
      "source": [
        "Slicing"
      ]
    },
    {
      "cell_type": "code",
      "metadata": {
        "colab": {
          "base_uri": "https://localhost:8080/",
          "height": 35
        },
        "id": "Hh0LbtloSBqO",
        "outputId": "d64c3dc2-ab0d-4aa4-97f0-eccedc781caf"
      },
      "source": [
        "s[:]"
      ],
      "execution_count": 31,
      "outputs": [
        {
          "output_type": "execute_result",
          "data": {
            "application/vnd.google.colaboratory.intrinsic+json": {
              "type": "string"
            },
            "text/plain": [
              "'123456789'"
            ]
          },
          "metadata": {},
          "execution_count": 31
        }
      ]
    },
    {
      "cell_type": "code",
      "metadata": {
        "colab": {
          "base_uri": "https://localhost:8080/",
          "height": 35
        },
        "id": "9f3UT6sFSg1i",
        "outputId": "54efc9d2-4c5e-47f5-9ad3-3f155e55d15c"
      },
      "source": [
        "s[-9:-1]"
      ],
      "execution_count": 40,
      "outputs": [
        {
          "output_type": "execute_result",
          "data": {
            "application/vnd.google.colaboratory.intrinsic+json": {
              "type": "string"
            },
            "text/plain": [
              "'12345678'"
            ]
          },
          "metadata": {},
          "execution_count": 40
        }
      ]
    },
    {
      "cell_type": "code",
      "metadata": {
        "colab": {
          "base_uri": "https://localhost:8080/",
          "height": 35
        },
        "id": "RtztKVMFSBsn",
        "outputId": "bb0bd1de-4204-4f7b-d426-2e28eb22a6d9"
      },
      "source": [
        "s[6:-1]"
      ],
      "execution_count": 42,
      "outputs": [
        {
          "output_type": "execute_result",
          "data": {
            "application/vnd.google.colaboratory.intrinsic+json": {
              "type": "string"
            },
            "text/plain": [
              "'78'"
            ]
          },
          "metadata": {},
          "execution_count": 42
        }
      ]
    },
    {
      "cell_type": "code",
      "metadata": {
        "colab": {
          "base_uri": "https://localhost:8080/"
        },
        "id": "L0wuBB1KTdyZ",
        "outputId": "4c5c4620-64d7-4710-d3d0-a4fbc6cbccd0"
      },
      "source": [
        "parrot = \"Norwegian Blue\"\n",
        "print(parrot)"
      ],
      "execution_count": 43,
      "outputs": [
        {
          "output_type": "stream",
          "name": "stdout",
          "text": [
            "Norwegian Blue\n"
          ]
        }
      ]
    },
    {
      "cell_type": "code",
      "metadata": {
        "colab": {
          "base_uri": "https://localhost:8080/"
        },
        "id": "8QzG0vDjT7b8",
        "outputId": "065d7194-ed89-4e8f-9f63-82067ff27c07"
      },
      "source": [
        "print(parrot[3])\n",
        "print(parrot[4])\n",
        "print(parrot[9])\n",
        "print(parrot[3])\n",
        "print(parrot[6])\n",
        "print(parrot[8])"
      ],
      "execution_count": 44,
      "outputs": [
        {
          "output_type": "stream",
          "name": "stdout",
          "text": [
            "w\n",
            "e\n",
            " \n",
            "w\n",
            "i\n",
            "n\n"
          ]
        }
      ]
    },
    {
      "cell_type": "code",
      "metadata": {
        "colab": {
          "base_uri": "https://localhost:8080/"
        },
        "id": "C6YkoQUBSBva",
        "outputId": "7387d6a9-7400-4a4c-a9cf-cbd1f1cd45c9"
      },
      "source": [
        "print(parrot[-11])\n",
        "print(parrot[-10])\n",
        "print(parrot[-5])\n",
        "print(parrot[-11])\n",
        "print(parrot[-8])\n",
        "print(parrot[-6])"
      ],
      "execution_count": 45,
      "outputs": [
        {
          "output_type": "stream",
          "name": "stdout",
          "text": [
            "w\n",
            "e\n",
            " \n",
            "w\n",
            "i\n",
            "n\n"
          ]
        }
      ]
    },
    {
      "cell_type": "code",
      "metadata": {
        "colab": {
          "base_uri": "https://localhost:8080/"
        },
        "id": "Hbia9mFeSByp",
        "outputId": "66dd3c8b-7ce4-4d80-b47f-36e7633e1c13"
      },
      "source": [
        "print(parrot[3-14])\n",
        "print(parrot[4-14])\n",
        "print(parrot[9-14])\n",
        "print(parrot[3-14])\n",
        "print(parrot[6-14])\n",
        "print(parrot[8-14])"
      ],
      "execution_count": 47,
      "outputs": [
        {
          "output_type": "stream",
          "name": "stdout",
          "text": [
            "w\n",
            "e\n",
            " \n",
            "w\n",
            "i\n",
            "n\n"
          ]
        }
      ]
    },
    {
      "cell_type": "code",
      "metadata": {
        "colab": {
          "base_uri": "https://localhost:8080/"
        },
        "id": "tUDhpChQUngd",
        "outputId": "e9c7c49f-512c-4a8f-feba-ee6d41c88f5f"
      },
      "source": [
        "print(len(parrot))"
      ],
      "execution_count": 46,
      "outputs": [
        {
          "output_type": "stream",
          "name": "stdout",
          "text": [
            "14\n"
          ]
        }
      ]
    },
    {
      "cell_type": "markdown",
      "metadata": {
        "id": "4j3FpqWWUqJ8"
      },
      "source": [
        "Stepping in indexing"
      ]
    },
    {
      "cell_type": "code",
      "metadata": {
        "id": "BeKEy_6JU20X"
      },
      "source": [
        "z = \"123456789\""
      ],
      "execution_count": 48,
      "outputs": []
    },
    {
      "cell_type": "code",
      "metadata": {
        "colab": {
          "base_uri": "https://localhost:8080/",
          "height": 35
        },
        "id": "phd3H_ayU-1W",
        "outputId": "42341b86-6efa-411a-9033-97cc2572102c"
      },
      "source": [
        "z[::-3]"
      ],
      "execution_count": 58,
      "outputs": [
        {
          "output_type": "execute_result",
          "data": {
            "application/vnd.google.colaboratory.intrinsic+json": {
              "type": "string"
            },
            "text/plain": [
              "'963'"
            ]
          },
          "metadata": {},
          "execution_count": 58
        }
      ]
    },
    {
      "cell_type": "code",
      "metadata": {
        "colab": {
          "base_uri": "https://localhost:8080/",
          "height": 35
        },
        "id": "Vh7ge-lIVjAG",
        "outputId": "32320be5-e398-49f6-a4c5-76aa4e155d87"
      },
      "source": [
        "z[2:7]"
      ],
      "execution_count": 59,
      "outputs": [
        {
          "output_type": "execute_result",
          "data": {
            "application/vnd.google.colaboratory.intrinsic+json": {
              "type": "string"
            },
            "text/plain": [
              "'34567'"
            ]
          },
          "metadata": {},
          "execution_count": 59
        }
      ]
    },
    {
      "cell_type": "code",
      "metadata": {
        "id": "aUhfFJNGVk43"
      },
      "source": [
        ""
      ],
      "execution_count": null,
      "outputs": []
    },
    {
      "cell_type": "code",
      "metadata": {
        "colab": {
          "base_uri": "https://localhost:8080/",
          "height": 35
        },
        "id": "X4iNhnRtU23a",
        "outputId": "6a9bf401-a2d2-454b-9f6c-c565140c2559"
      },
      "source": [
        "z[2:7:2]"
      ],
      "execution_count": 57,
      "outputs": [
        {
          "output_type": "execute_result",
          "data": {
            "application/vnd.google.colaboratory.intrinsic+json": {
              "type": "string"
            },
            "text/plain": [
              "'357'"
            ]
          },
          "metadata": {},
          "execution_count": 57
        }
      ]
    },
    {
      "cell_type": "code",
      "metadata": {
        "colab": {
          "base_uri": "https://localhost:8080/",
          "height": 35
        },
        "id": "VARX6CBdU27C",
        "outputId": "9ad92450-9a8a-48df-fc00-654bc50c7137"
      },
      "source": [
        "z[2:-1:2]"
      ],
      "execution_count": 61,
      "outputs": [
        {
          "output_type": "execute_result",
          "data": {
            "application/vnd.google.colaboratory.intrinsic+json": {
              "type": "string"
            },
            "text/plain": [
              "'1357'"
            ]
          },
          "metadata": {},
          "execution_count": 61
        }
      ]
    },
    {
      "cell_type": "code",
      "metadata": {
        "colab": {
          "base_uri": "https://localhost:8080/",
          "height": 35
        },
        "id": "VDYBv1spWlv7",
        "outputId": "81494ea2-43f3-4da0-a48d-3360d1487d4f"
      },
      "source": [
        "z"
      ],
      "execution_count": 69,
      "outputs": [
        {
          "output_type": "execute_result",
          "data": {
            "application/vnd.google.colaboratory.intrinsic+json": {
              "type": "string"
            },
            "text/plain": [
              "'123456789'"
            ]
          },
          "metadata": {},
          "execution_count": 69
        }
      ]
    },
    {
      "cell_type": "code",
      "metadata": {
        "id": "5WDFCSq0WmWk"
      },
      "source": [
        ""
      ],
      "execution_count": null,
      "outputs": []
    },
    {
      "cell_type": "code",
      "metadata": {
        "colab": {
          "base_uri": "https://localhost:8080/",
          "height": 35
        },
        "id": "8J7LeStMU29I",
        "outputId": "1d420486-4bdb-4801-9ef6-e63ae8fdd631"
      },
      "source": [
        "z[-1:-7:-1]"
      ],
      "execution_count": 71,
      "outputs": [
        {
          "output_type": "execute_result",
          "data": {
            "application/vnd.google.colaboratory.intrinsic+json": {
              "type": "string"
            },
            "text/plain": [
              "'987654'"
            ]
          },
          "metadata": {},
          "execution_count": 71
        }
      ]
    },
    {
      "cell_type": "code",
      "metadata": {
        "id": "LUW2f7oNU3AG"
      },
      "source": [
        "#String Interpolation \n",
        "#Fstring \n",
        "#Format Method\n",
        "\n"
      ],
      "execution_count": null,
      "outputs": []
    }
  ]
}